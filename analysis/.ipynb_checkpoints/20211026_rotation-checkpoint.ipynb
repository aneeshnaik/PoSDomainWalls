{
 "cells": [
  {
   "cell_type": "markdown",
   "id": "f8d54c15",
   "metadata": {},
   "source": [
    "I want to set up a function which converts angles in one spherical system to angles in another sherical system, given the angular position of the new system."
   ]
  },
  {
   "cell_type": "markdown",
   "id": "af306d21",
   "metadata": {},
   "source": [
    "Imports:"
   ]
  },
  {
   "cell_type": "code",
   "execution_count": 1,
   "id": "9ba18e7a",
   "metadata": {},
   "outputs": [],
   "source": [
    "import numpy as np\n",
    "import matplotlib.pyplot as plt\n",
    "pi = np.pi"
   ]
  },
  {
   "cell_type": "code",
   "execution_count": 72,
   "id": "c5e18d65",
   "metadata": {},
   "outputs": [],
   "source": [
    "def construct_Rz(theta):\n",
    "    ct = np.cos(theta)\n",
    "    st = np.sin(theta)\n",
    "    R = np.array([[ct, -st, 0], [st, ct, 0], [0, 0, 1]])\n",
    "    return R\n",
    "\n",
    "def construct_Ry(theta):\n",
    "    ct = np.cos(theta)\n",
    "    st = np.sin(theta)\n",
    "    R = np.array([[ct, 0, st], [0, 1, 0], [-st, 0, ct]])\n",
    "    return R\n",
    "\n",
    "def convert_pos(pos, theta0, phi0):\n",
    "    R1 = construct_Rz(-phi0)\n",
    "    R2 = construct_Ry(-theta0)\n",
    "    pos_new = np.matmul(R2, np.matmul(R1, pos))\n",
    "    return pos_new\n",
    "\n",
    "def convert_angles(theta, phi, theta0, phi0):\n",
    "    # convert to Cartesian\n",
    "    x = np.sin(theta) * np.cos(phi)\n",
    "    y = np.sin(theta) * np.sin(phi)\n",
    "    z = np.cos(theta)\n",
    "    pos = np.stack((x, y, z))\n",
    "    \n",
    "    # rotate\n",
    "    R1 = construct_Rz(-phi0)\n",
    "    R2 = construct_Ry(-theta0)\n",
    "    pos_new = np.matmul(R2, np.matmul(R1, pos))\n",
    "    x_new = pos_new[0]\n",
    "    y_new = pos_new[1]\n",
    "    z_new = pos_new[2]\n",
    "\n",
    "    # get angles\n",
    "    phi_new = np.arctan2(y_new, x_new)\n",
    "    theta_new = np.arctan2(np.sqrt(x_new**2 + y_new**2), z_new)\n",
    "    return theta_new, phi_new"
   ]
  },
  {
   "cell_type": "markdown",
   "id": "6aeb97f6",
   "metadata": {},
   "source": [
    "Sphere test, construct large number of random points in small ball around random centre. First, generate points:"
   ]
  },
  {
   "cell_type": "code",
   "execution_count": 19,
   "id": "2cc10ae0",
   "metadata": {},
   "outputs": [],
   "source": [
    "N_pts = 1000000\n",
    "np.random.seed(42)\n",
    "rs = np.random.uniform(low=0, high=0.05, size=N_pts)\n",
    "phis = np.random.uniform(low=0, high=2*pi, size=N_pts)\n",
    "thetas = np.arccos(1 - 2 * np.random.uniform(size=N_pts))\n",
    "xcen = np.random.uniform(low=-1, high=1)\n",
    "ycen = np.random.uniform(low=-1, high=1)\n",
    "zcen = np.random.uniform(low=-1, high=1)\n",
    "phi0 = np.arctan2(ycen, xcen)\n",
    "theta0 = np.arctan2(np.sqrt(xcen**2 + ycen**2), zcen)\n",
    "\n",
    "x = xcen + rs * np.sin(thetas) * np.cos(phis)\n",
    "y = ycen + rs * np.sin(thetas) * np.sin(phis)\n",
    "z = zcen + rs * np.cos(thetas)\n",
    "pos = np.stack((x, y, z))"
   ]
  },
  {
   "cell_type": "markdown",
   "id": "58d15902",
   "metadata": {},
   "source": [
    "Rotate:"
   ]
  },
  {
   "cell_type": "code",
   "execution_count": 33,
   "id": "ea8b18df",
   "metadata": {},
   "outputs": [],
   "source": [
    "pos_new = convert_pos(pos, theta0, phi0)"
   ]
  },
  {
   "cell_type": "markdown",
   "id": "5a48c121",
   "metadata": {},
   "source": [
    "Check radial positions same:"
   ]
  },
  {
   "cell_type": "code",
   "execution_count": 40,
   "id": "404ad64e",
   "metadata": {},
   "outputs": [],
   "source": [
    "r = np.linalg.norm(pos, axis=0)\n",
    "r_new = np.linalg.norm(pos_new, axis=0)\n",
    "np.testing.assert_allclose(r, r_new)"
   ]
  },
  {
   "cell_type": "markdown",
   "id": "dd40b9f6",
   "metadata": {},
   "source": [
    "Check angles:"
   ]
  },
  {
   "cell_type": "code",
   "execution_count": 55,
   "id": "e6c16c7f",
   "metadata": {},
   "outputs": [
    {
     "data": {
      "image/png": "[encoded data removed]",
      "text/plain": [
       "<Figure size 432x288 with 1 Axes>"
      ]
     },
     "metadata": {
      "needs_background": "light"
     },
     "output_type": "display_data"
    }
   ],
   "source": [
    "theta_new = np.arctan2(np.sqrt(pos_new[0]**2 + pos_new[1]**2), pos_new[2] - np.average(pos_new[2]))\n",
    "plt.hist(theta_new, 200, density=True);"
   ]
  },
  {
   "cell_type": "markdown",
   "id": "88b64078",
   "metadata": {},
   "source": [
    "Looks good!"
   ]
  },
  {
   "cell_type": "markdown",
   "id": "6437a713",
   "metadata": {},
   "source": [
    "Plane test: choose random direction for orientation of plane passing through origin, sample points in plane, then rotate."
   ]
  },
  {
   "cell_type": "code",
   "execution_count": 65,
   "id": "e1f1f721",
   "metadata": {},
   "outputs": [],
   "source": [
    "np.random.seed(42)\n",
    "phi0 = np.random.uniform(low=0, high=2*pi)\n",
    "theta0 = np.arccos(1 - 2 * np.random.uniform())\n",
    "A = np.sin(theta0) * np.cos(phi0)\n",
    "B = np.sin(theta0) * np.sin(phi0)\n",
    "C = np.cos(theta0)\n",
    "\n",
    "N_pts = 100000\n",
    "x = np.random.uniform(low=-1, high=1, size=N_pts)\n",
    "y = np.random.uniform(low=-1, high=1, size=N_pts)\n",
    "z = - (A * x + B * y) / C\n",
    "pos = np.stack((x, y, z))\n",
    "pos_new = convert_pos(pos, theta0, phi0)"
   ]
  },
  {
   "cell_type": "code",
   "execution_count": null,
   "id": "bac518a2",
   "metadata": {},
   "outputs": [],
   "source": []
  }
 ],
 "metadata": {
  "kernelspec": {
   "display_name": "Python 3 (ipykernel)",
   "language": "python",
   "name": "python3"
  },
  "language_info": {
   "codemirror_mode": {
    "name": "ipython",
    "version": 3
   },
   "file_extension": ".py",
   "mimetype": "text/x-python",
   "name": "python",
   "nbconvert_exporter": "python",
   "pygments_lexer": "ipython3",
   "version": "3.8.11"
  }
 },
 "nbformat": 4,
 "nbformat_minor": 5
}
